{
 "cells": [
  {
   "cell_type": "code",
   "execution_count": 2,
   "id": "d6a74348-c76d-44ad-b757-9df5a6d7481c",
   "metadata": {},
   "outputs": [
    {
     "ename": "OSError",
     "evalue": "Could not find kaggle.json. Make sure it's located in C:\\Users\\ADMIN\\.kaggle. Or use the environment method. See setup instructions at https://github.com/Kaggle/kaggle-api/",
     "output_type": "error",
     "traceback": [
      "\u001b[31m---------------------------------------------------------------------------\u001b[39m",
      "\u001b[31mOSError\u001b[39m                                   Traceback (most recent call last)",
      "\u001b[36mCell\u001b[39m\u001b[36m \u001b[39m\u001b[32mIn[2]\u001b[39m\u001b[32m, line 1\u001b[39m\n\u001b[32m----> \u001b[39m\u001b[32m1\u001b[39m \u001b[38;5;28;01mfrom\u001b[39;00m\u001b[38;5;250m \u001b[39m\u001b[34;01mkaggle\u001b[39;00m\u001b[34;01m.\u001b[39;00m\u001b[34;01mapi\u001b[39;00m\u001b[34;01m.\u001b[39;00m\u001b[34;01mkaggle_api_extended\u001b[39;00m\u001b[38;5;250m \u001b[39m\u001b[38;5;28;01mimport\u001b[39;00m KaggleApi\n",
      "\u001b[36mFile \u001b[39m\u001b[32mC:\\Python312\\Lib\\site-packages\\kaggle\\__init__.py:6\u001b[39m\n\u001b[32m      3\u001b[39m \u001b[38;5;28;01mfrom\u001b[39;00m\u001b[38;5;250m \u001b[39m\u001b[34;01mkaggle\u001b[39;00m\u001b[34;01m.\u001b[39;00m\u001b[34;01mapi\u001b[39;00m\u001b[34;01m.\u001b[39;00m\u001b[34;01mkaggle_api_extended\u001b[39;00m\u001b[38;5;250m \u001b[39m\u001b[38;5;28;01mimport\u001b[39;00m KaggleApi\n\u001b[32m      5\u001b[39m api = KaggleApi()\n\u001b[32m----> \u001b[39m\u001b[32m6\u001b[39m \u001b[43mapi\u001b[49m\u001b[43m.\u001b[49m\u001b[43mauthenticate\u001b[49m\u001b[43m(\u001b[49m\u001b[43m)\u001b[49m\n",
      "\u001b[36mFile \u001b[39m\u001b[32mC:\\Python312\\Lib\\site-packages\\kaggle\\api\\kaggle_api_extended.py:433\u001b[39m, in \u001b[36mKaggleApi.authenticate\u001b[39m\u001b[34m(self)\u001b[39m\n\u001b[32m    431\u001b[39m     \u001b[38;5;28;01mreturn\u001b[39;00m\n\u001b[32m    432\u001b[39m   \u001b[38;5;28;01melse\u001b[39;00m:\n\u001b[32m--> \u001b[39m\u001b[32m433\u001b[39m     \u001b[38;5;28;01mraise\u001b[39;00m \u001b[38;5;167;01mIOError\u001b[39;00m(\u001b[33m'\u001b[39m\u001b[33mCould not find \u001b[39m\u001b[38;5;132;01m{}\u001b[39;00m\u001b[33m. Make sure it\u001b[39m\u001b[38;5;130;01m\\'\u001b[39;00m\u001b[33ms located in\u001b[39m\u001b[33m'\u001b[39m\n\u001b[32m    434\u001b[39m                   \u001b[33m'\u001b[39m\u001b[33m \u001b[39m\u001b[38;5;132;01m{}\u001b[39;00m\u001b[33m. Or use the environment method. See setup\u001b[39m\u001b[33m'\u001b[39m\n\u001b[32m    435\u001b[39m                   \u001b[33m'\u001b[39m\u001b[33m instructions at\u001b[39m\u001b[33m'\u001b[39m\n\u001b[32m    436\u001b[39m                   \u001b[33m'\u001b[39m\u001b[33m https://github.com/Kaggle/kaggle-api/\u001b[39m\u001b[33m'\u001b[39m.format(\n\u001b[32m    437\u001b[39m                       \u001b[38;5;28mself\u001b[39m.config_file, \u001b[38;5;28mself\u001b[39m.config_dir))\n\u001b[32m    439\u001b[39m \u001b[38;5;66;03m# Step 3: load into configuration!\u001b[39;00m\n\u001b[32m    440\u001b[39m \u001b[38;5;28mself\u001b[39m._load_config(config_data)\n",
      "\u001b[31mOSError\u001b[39m: Could not find kaggle.json. Make sure it's located in C:\\Users\\ADMIN\\.kaggle. Or use the environment method. See setup instructions at https://github.com/Kaggle/kaggle-api/"
     ]
    }
   ],
   "source": [
    "from kaggle.api.kaggle_api_extended import KaggleApiav"
   ]
  },
  {
   "cell_type": "code",
   "execution_count": null,
   "id": "3c8a52c9-723b-4497-a907-cc912fe8df14",
   "metadata": {},
   "outputs": [],
   "source": []
  }
 ],
 "metadata": {
  "kernelspec": {
   "display_name": "Python 3 (ipykernel)",
   "language": "python",
   "name": "python3"
  },
  "language_info": {
   "codemirror_mode": {
    "name": "ipython",
    "version": 3
   },
   "file_extension": ".py",
   "mimetype": "text/x-python",
   "name": "python",
   "nbconvert_exporter": "python",
   "pygments_lexer": "ipython3",
   "version": "3.12.3"
  }
 },
 "nbformat": 4,
 "nbformat_minor": 5
}
